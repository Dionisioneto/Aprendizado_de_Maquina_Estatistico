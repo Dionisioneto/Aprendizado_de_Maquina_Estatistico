{
 "cells": [
  {
   "cell_type": "markdown",
   "metadata": {},
   "source": [
    "### Aprendizado de Máquina Estatístico\n",
    "Exercício 2 - Lista 3"
   ]
  },
  {
   "cell_type": "code",
   "execution_count": 272,
   "metadata": {},
   "outputs": [],
   "source": [
    "## Bibliotecas importantes\n",
    "import pandas as pd\n",
    "import numpy as np\n",
    "import matplotlib.pyplot as plt"
   ]
  },
  {
   "cell_type": "markdown",
   "metadata": {},
   "source": [
    "Simulação de uma base de dados"
   ]
  },
  {
   "cell_type": "code",
   "execution_count": 273,
   "metadata": {},
   "outputs": [],
   "source": [
    "## semente\n",
    "np.random.seed(12)\n",
    "\n",
    "## Gerar valores de um espaço linear.\n",
    "n = 1000\n",
    "X1 = np.random.normal(loc=10,scale=2,size=n) ## Normal\n",
    "X2 = np.random.gamma(shape=2,scale=3,size=n) ## Gamma\n",
    "X3 = np.random.poisson(lam=5,size=n) ## Poisson\n",
    "X4 = np.random.binomial(n=1,p=0.68) ## Bernoulli, 0 e 1\n",
    "X5 = np.random.binomial(n=1,p=0.35) ## Bernoulli, 0 e 1\n"
   ]
  },
  {
   "cell_type": "markdown",
   "metadata": {},
   "source": [
    "O controle das classes é feita pelo ajuste do intercepto e da contribuição de cada preditora da combinação linear. Os coeficientes que apresentarem a maior soma positiva entre os pesos e intercepto apresentarão maior frequência na quantificação de classes da variável resposta. O controle desta soma também deve ser por tentativa e erro para a quantidade na classe 1 (categoria de referência) seja consequência das demais."
   ]
  },
  {
   "cell_type": "code",
   "execution_count": 320,
   "metadata": {},
   "outputs": [],
   "source": [
    "lp2 = -0.3 - 0.1*X1 + 0.1*X2 + 0.1*X3 + 0.1*X4 + 0.3*X5\n",
    "lp3 = 0.75 - 0.2*X1 + 0.1*X2 + 0.14*X3 + 0.2*X4 + 0.1*X5\n",
    "lp4 = -1.2 + 0.2*X1 + 0.1*X2 - 0.24*X3 + 0.2*X4 + 0.2*X5"
   ]
  },
  {
   "cell_type": "code",
   "execution_count": 321,
   "metadata": {},
   "outputs": [
    {
     "data": {
      "image/png": "[encoded data removed]",
      "text/plain": [
       "<Figure size 1500x500 with 3 Axes>"
      ]
     },
     "metadata": {},
     "output_type": "display_data"
    }
   ],
   "source": [
    "# Criar uma figura com quatro subplots em uma grade 2x2\n",
    "fig, axes = plt.subplots(1, 3, figsize=(15, 5))\n",
    "\n",
    "# Plotar o primeiro histograma\n",
    "axes[0].hist(lp2, bins=20, color='blue', alpha=0.7)\n",
    "axes[0].set_title('lp2')\n",
    "\n",
    "# Plotar o segundo histograma\n",
    "axes[1].hist(lp3, bins=20, color='green', alpha=0.7)\n",
    "axes[1].set_title('lp3')\n",
    "\n",
    "# Plotar o terceiro histograma\n",
    "axes[2].hist(lp4, bins=20, color='red', alpha=0.7)\n",
    "axes[2].set_title('lp4')\n",
    "\n",
    "# Ajustar o layout para que os subplots não se sobreponham\n",
    "plt.tight_layout()\n",
    "\n",
    "# Exibir a figura\n",
    "plt.show()"
   ]
  },
  {
   "cell_type": "code",
   "execution_count": 323,
   "metadata": {},
   "outputs": [
    {
     "data": {
      "text/html": [
       "<div>\n",
       "<style scoped>\n",
       "    .dataframe tbody tr th:only-of-type {\n",
       "        vertical-align: middle;\n",
       "    }\n",
       "\n",
       "    .dataframe tbody tr th {\n",
       "        vertical-align: top;\n",
       "    }\n",
       "\n",
       "    .dataframe thead th {\n",
       "        text-align: right;\n",
       "    }\n",
       "</style>\n",
       "<table border=\"1\" class=\"dataframe\">\n",
       "  <thead>\n",
       "    <tr style=\"text-align: right;\">\n",
       "      <th></th>\n",
       "      <th>p1</th>\n",
       "      <th>p2</th>\n",
       "      <th>p3</th>\n",
       "      <th>p4</th>\n",
       "    </tr>\n",
       "  </thead>\n",
       "  <tbody>\n",
       "    <tr>\n",
       "      <th>0</th>\n",
       "      <td>0.072948</td>\n",
       "      <td>0.135930</td>\n",
       "      <td>0.115300</td>\n",
       "      <td>0.675822</td>\n",
       "    </tr>\n",
       "    <tr>\n",
       "      <th>1</th>\n",
       "      <td>0.146384</td>\n",
       "      <td>0.249773</td>\n",
       "      <td>0.289119</td>\n",
       "      <td>0.314724</td>\n",
       "    </tr>\n",
       "    <tr>\n",
       "      <th>2</th>\n",
       "      <td>0.277877</td>\n",
       "      <td>0.144247</td>\n",
       "      <td>0.133358</td>\n",
       "      <td>0.444518</td>\n",
       "    </tr>\n",
       "    <tr>\n",
       "      <th>3</th>\n",
       "      <td>0.170199</td>\n",
       "      <td>0.249640</td>\n",
       "      <td>0.340415</td>\n",
       "      <td>0.239746</td>\n",
       "    </tr>\n",
       "    <tr>\n",
       "      <th>4</th>\n",
       "      <td>0.173717</td>\n",
       "      <td>0.170413</td>\n",
       "      <td>0.148057</td>\n",
       "      <td>0.507813</td>\n",
       "    </tr>\n",
       "    <tr>\n",
       "      <th>...</th>\n",
       "      <td>...</td>\n",
       "      <td>...</td>\n",
       "      <td>...</td>\n",
       "      <td>...</td>\n",
       "    </tr>\n",
       "    <tr>\n",
       "      <th>995</th>\n",
       "      <td>0.152219</td>\n",
       "      <td>0.262427</td>\n",
       "      <td>0.265156</td>\n",
       "      <td>0.320198</td>\n",
       "    </tr>\n",
       "    <tr>\n",
       "      <th>996</th>\n",
       "      <td>0.095951</td>\n",
       "      <td>0.118873</td>\n",
       "      <td>0.095788</td>\n",
       "      <td>0.689389</td>\n",
       "    </tr>\n",
       "    <tr>\n",
       "      <th>997</th>\n",
       "      <td>0.098239</td>\n",
       "      <td>0.085432</td>\n",
       "      <td>0.064464</td>\n",
       "      <td>0.751864</td>\n",
       "    </tr>\n",
       "    <tr>\n",
       "      <th>998</th>\n",
       "      <td>0.159658</td>\n",
       "      <td>0.097909</td>\n",
       "      <td>0.074747</td>\n",
       "      <td>0.667687</td>\n",
       "    </tr>\n",
       "    <tr>\n",
       "      <th>999</th>\n",
       "      <td>0.147053</td>\n",
       "      <td>0.306513</td>\n",
       "      <td>0.445817</td>\n",
       "      <td>0.100617</td>\n",
       "    </tr>\n",
       "  </tbody>\n",
       "</table>\n",
       "<p>1000 rows × 4 columns</p>\n",
       "</div>"
      ],
      "text/plain": [
       "           p1        p2        p3        p4\n",
       "0    0.072948  0.135930  0.115300  0.675822\n",
       "1    0.146384  0.249773  0.289119  0.314724\n",
       "2    0.277877  0.144247  0.133358  0.444518\n",
       "3    0.170199  0.249640  0.340415  0.239746\n",
       "4    0.173717  0.170413  0.148057  0.507813\n",
       "..        ...       ...       ...       ...\n",
       "995  0.152219  0.262427  0.265156  0.320198\n",
       "996  0.095951  0.118873  0.095788  0.689389\n",
       "997  0.098239  0.085432  0.064464  0.751864\n",
       "998  0.159658  0.097909  0.074747  0.667687\n",
       "999  0.147053  0.306513  0.445817  0.100617\n",
       "\n",
       "[1000 rows x 4 columns]"
      ]
     },
     "execution_count": 323,
     "metadata": {},
     "output_type": "execute_result"
    }
   ],
   "source": [
    "# O denominador, garante que as probabilidade somam 1\n",
    "den = (1 + np.exp(lp2) + np.exp(lp3) + np.exp(lp4))\n",
    "p1 = 1/den\n",
    "p2 = np.exp(lp2)/den\n",
    "p3 = np.exp(lp3)/den\n",
    "p4 = np.exp(lp4)/den\n",
    "P = pd.concat([pd.Series(p1),pd.Series(p2),pd.Series(p3),pd.Series(p4)],axis=1)\n",
    "P.columns = [\"p1\",\"p2\",\"p3\",\"p4\"]\n",
    "\n",
    "P"
   ]
  },
  {
   "cell_type": "code",
   "execution_count": 324,
   "metadata": {},
   "outputs": [],
   "source": [
    "## simular as classes dos indivíduos baseando-se na probabilidade gerada no modelo multinomial\n",
    "tipo_classes = [1,2,3,4]\n",
    "\n",
    "classe = n*[np.nan]\n",
    "for individuo in range(n):\n",
    "    classe[individuo] = np.random.choice(tipo_classes,p=P.iloc[individuo,:])"
   ]
  },
  {
   "cell_type": "code",
   "execution_count": 325,
   "metadata": {},
   "outputs": [
    {
     "data": {
      "text/plain": [
       "4    0.356\n",
       "3    0.267\n",
       "2    0.198\n",
       "1    0.179\n",
       "Name: proportion, dtype: float64"
      ]
     },
     "execution_count": 325,
     "metadata": {},
     "output_type": "execute_result"
    }
   ],
   "source": [
    "classe = pd.Series(classe)\n",
    "classe.value_counts(normalize=True)"
   ]
  },
  {
   "cell_type": "markdown",
   "metadata": {},
   "source": [
    "Apresentando um caso particular, caso binário (2 classes)."
   ]
  },
  {
   "cell_type": "code",
   "execution_count": 217,
   "metadata": {},
   "outputs": [],
   "source": [
    "## semente\n",
    "np.random.seed(12)\n",
    "\n",
    "## Gerar valores de um espaço linear.\n",
    "n = 1000\n",
    "X1 = np.random.normal(loc=10,scale=2,size=n) ## Normal\n",
    "X2 = np.random.gamma(shape=2,scale=3,size=n) ## Gamma\n",
    "X3 = np.random.poisson(lam=5,size=n) ## Poisson\n",
    "X4 = np.random.binomial(n=1,p=0.68) ## Bernoulli, 0 e 1\n",
    "X5 = np.random.binomial(n=1,p=0.35) ## Bernoulli, 0 e 1"
   ]
  },
  {
   "cell_type": "code",
   "execution_count": 268,
   "metadata": {},
   "outputs": [
    {
     "data": {
      "image/png": "[encoded data removed]",
      "text/plain": [
       "<Figure size 640x480 with 1 Axes>"
      ]
     },
     "metadata": {},
     "output_type": "display_data"
    }
   ],
   "source": [
    "lp2 = 1.1 - 0.5*X1 + 0.4*X2 + 0.3*X3 - 0.6*X4 + 0.2*X5\n",
    "## para classes balanceadas, temos que configurar lp2 (preditor linear) \n",
    "## de tal forma que estejam concentrados em torno de zero.\n",
    "plt.hist(lp2)\n",
    "\n",
    "plt.show()"
   ]
  },
  {
   "cell_type": "code",
   "execution_count": 269,
   "metadata": {},
   "outputs": [],
   "source": [
    "# O denominador, garante que as probabilidade somam 1\n",
    "den = (1 + np.exp(lp2))\n",
    "p1 = 1/den\n",
    "p2 = np.exp(lp2)/den\n",
    "\n",
    "P = pd.concat([pd.Series(p1),pd.Series(p2)],axis=1)\n",
    "P.columns = [\"p1\",\"p2\"]"
   ]
  },
  {
   "cell_type": "code",
   "execution_count": 270,
   "metadata": {},
   "outputs": [],
   "source": [
    "## simular as classes dos indivíduos baseando-se na probabilidade gerada no modelo Bernoulli\n",
    "tipo_classes = [0,1]\n",
    "\n",
    "classe = n*[np.nan]\n",
    "for individuo in range(n):\n",
    "    classe[individuo] = np.random.choice(tipo_classes,p=P.iloc[individuo,:])"
   ]
  },
  {
   "cell_type": "code",
   "execution_count": 271,
   "metadata": {},
   "outputs": [
    {
     "data": {
      "text/plain": [
       "0    0.504\n",
       "1    0.496\n",
       "Name: proportion, dtype: float64"
      ]
     },
     "execution_count": 271,
     "metadata": {},
     "output_type": "execute_result"
    }
   ],
   "source": [
    "classe = pd.Series(classe)\n",
    "classe.value_counts(normalize=True)"
   ]
  }
 ],
 "metadata": {
  "kernelspec": {
   "display_name": "Python 3",
   "language": "python",
   "name": "python3"
  },
  "language_info": {
   "codemirror_mode": {
    "name": "ipython",
    "version": 3
   },
   "file_extension": ".py",
   "mimetype": "text/x-python",
   "name": "python",
   "nbconvert_exporter": "python",
   "pygments_lexer": "ipython3",
   "version": "3.11.6"
  }
 },
 "nbformat": 4,
 "nbformat_minor": 2
}
